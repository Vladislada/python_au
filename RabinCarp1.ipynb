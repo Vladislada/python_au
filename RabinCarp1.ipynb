{
 "cells": [
  {
   "cell_type": "code",
   "execution_count": null,
   "metadata": {},
   "outputs": [],
   "source": []
  },
  {
   "cell_type": "code",
   "execution_count": 5,
   "metadata": {},
   "outputs": [
    {
     "name": "stdout",
     "output_type": "stream",
     "text": [
      "46\n",
      "66\n",
      "84\n",
      "90\n",
      "99\n"
     ]
    }
   ],
   "source": [
    "def find_all_rabin_karp(text, pattern):\n",
    "    N = 0\n",
    "    for p in range(0, len(text) - len(pattern) + 1):\n",
    "        N += 1\n",
    "        prov = True\n",
    "        for i in range(len(pattern)):\n",
    "            if text[p+i] != pattern[i]:\n",
    "                prov = False\n",
    "                break\n",
    "            N += 1\n",
    "        if prov:\n",
    "            print(p)\n",
    "text = \"\"\"И сердце бьется в упоенье,\n",
    "И для него воскресли вновь\n",
    "И божество, и вдохновенье,\n",
    "И жизнь, и слезы, и любовь.\"\"\"\n",
    "pattern = \"и\"\n",
    "find_all_rabin_karp(text, pattern)"
   ]
  },
  {
   "cell_type": "code",
   "execution_count": null,
   "metadata": {},
   "outputs": [],
   "source": [
    "\n"
   ]
  },
  {
   "cell_type": "code",
   "execution_count": null,
   "metadata": {},
   "outputs": [],
   "source": []
  },
  {
   "cell_type": "code",
   "execution_count": null,
   "metadata": {},
   "outputs": [],
   "source": []
  }
 ],
 "metadata": {
  "kernelspec": {
   "display_name": "Python 3",
   "language": "python",
   "name": "python3"
  },
  "language_info": {
   "codemirror_mode": {
    "name": "ipython",
    "version": 3
   },
   "file_extension": ".py",
   "mimetype": "text/x-python",
   "name": "python",
   "nbconvert_exporter": "python",
   "pygments_lexer": "ipython3",
   "version": "3.8.3"
  }
 },
 "nbformat": 4,
 "nbformat_minor": 4
}
