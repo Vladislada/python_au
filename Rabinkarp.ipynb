{
 "cells": [
  {
   "cell_type": "code",
   "execution_count": 6,
   "metadata": {},
   "outputs": [
    {
     "name": "stdout",
     "output_type": "stream",
     "text": [
      "[22, 31, 70, 93, 117]\n",
      "[215, 225, 235, 245]\n"
     ]
    }
   ],
   "source": [
    "def rabin_karp (text, pattern):\n",
    "\n",
    "    result = []\n",
    "    pattern_sum = sum(ord(s) for s in pattern)\n",
    "    pattern_length = len(pattern)\n",
    "    text_length = len(text)\n",
    "    proverka = False\n",
    "   \n",
    "\n",
    "    for i in range(text_length - pattern_length): \n",
    "        part = text[i:(pattern_length + i)] \n",
    "        text_sum = sum(ord(s) for s in part)\n",
    "        if pattern_sum == text_sum: \n",
    "            for j in range(len(part) - 1):\n",
    "                if part[j] != pattern[j]: \n",
    "                     proverka = False\n",
    "                     break\n",
    "                else: proverka = True\n",
    "            if proverka == True: \n",
    "                result.append(i)\n",
    "    return result\n",
    "\n",
    "l = \"\"\"здесь мы решили найти клад, но клад\n",
    "не простой, а золотой. И был этот клад на месте \n",
    "старого кладбища. Нашли мы этот клад и отдали\n",
    "его государству\"\"\"\n",
    "p = \"клад\"\n",
    "\n",
    "print(rabin_karp(l, p))\n",
    "\n",
    "a = \"\"\"Вместе шли они в сраженья через минные поля,\n",
    "на узлах сопротивленья славу поровну деля.\n",
    "Не страшили дождь и ночь их, и немало огневых\n",
    "подавили они точек, не считая запятых.\n",
    "Воевала дело зная та четверка храбрецов -\n",
    "Иваненко, Иванбаев, Иванидзе, Иванов.\"\"\"\n",
    "b = \"Иван\"\n",
    "\n",
    "print(rabin_karp(a, b))"
   ]
  },
  {
   "cell_type": "code",
   "execution_count": null,
   "metadata": {},
   "outputs": [],
   "source": []
  }
 ],
 "metadata": {
  "kernelspec": {
   "display_name": "Python 3",
   "language": "python",
   "name": "python3"
  },
  "language_info": {
   "codemirror_mode": {
    "name": "ipython",
    "version": 3
   },
   "file_extension": ".py",
   "mimetype": "text/x-python",
   "name": "python",
   "nbconvert_exporter": "python",
   "pygments_lexer": "ipython3",
   "version": "3.8.3"
  }
 },
 "nbformat": 4,
 "nbformat_minor": 4
}
