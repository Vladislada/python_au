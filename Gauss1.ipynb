{
 "cells": [
  {
   "cell_type": "code",
   "execution_count": 22,
   "metadata": {},
   "outputs": [
    {
     "name": "stdout",
     "output_type": "stream",
     "text": [
      "[0.8490566  0.05660377 0.47169811 1.45283019]\n",
      "Макс отклонение компоненты решения: 1.1171619185290638e-15\n"
     ]
    }
   ],
   "source": [
    "from numpy.linalg import norm\n",
    "import numpy as np\n",
    "from numpy import array\n",
    "from numpy.linalg import solve as solve_out_of_the_box\n",
    "\n",
    "a = array([\n",
    "    [1.5, 2.0, 1.5, 2.0],\n",
    "    [3.0, 2.0, 4.0, 1.0],\n",
    "    [1.0, 6.0, 0.0, 4  ],\n",
    "    [2.0, 1.0, 4.0, 3  ]\n",
    "], dtype=float)\n",
    "\n",
    "b = array([5, 6, 7, 8], dtype=float)\n",
    "d=len(a)\n",
    "\n",
    "def vector_gauss(a, b):\n",
    "    a = a.copy()\n",
    "    b = b.copy()\n",
    "    \n",
    "    for j in range( d - 1):\n",
    "        for i in range(j + 1, d):\n",
    "            l = a[i, j] / a[j, j]\n",
    "            a[i, j + 1:d] = a[i, j + 1:d] - l * a[j, j + 1:d]\n",
    "            b[i] = b[i] - l * b[j]\n",
    "    for k in range(d - 1, -1, -1):\n",
    "        b[k] = (b[k] - np.dot(a[k, k + 1:d], b[k + 1:d])) / a[k, k]\n",
    "    return b\n",
    "\n",
    "solution = vector_gauss(a, b)\n",
    "oob_solution = solve_out_of_the_box(a, b)\n",
    "\n",
    "print(solution)\n",
    "print(\"Макс отклонение компоненты решения:\", norm(solution-oob_solution, ord=1))"
   ]
  },
  {
   "cell_type": "code",
   "execution_count": null,
   "metadata": {},
   "outputs": [],
   "source": []
  }
 ],
 "metadata": {
  "kernelspec": {
   "display_name": "Python 3",
   "language": "python",
   "name": "python3"
  },
  "language_info": {
   "codemirror_mode": {
    "name": "ipython",
    "version": 3
   },
   "file_extension": ".py",
   "mimetype": "text/x-python",
   "name": "python",
   "nbconvert_exporter": "python",
   "pygments_lexer": "ipython3",
   "version": "3.8.3"
  }
 },
 "nbformat": 4,
 "nbformat_minor": 4
}
