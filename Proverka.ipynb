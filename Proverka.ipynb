{
 "cells": [
  {
   "cell_type": "code",
   "execution_count": 1,
   "metadata": {},
   "outputs": [
    {
     "name": "stdout",
     "output_type": "stream",
     "text": [
      "Введите число: 67\n",
      "Число простое\n",
      "Число простое\n",
      "2.842600000008133e-05\n",
      "1.3028999997999335e-05\n"
     ]
    }
   ],
   "source": [
    "import math\n",
    "import timeit\n",
    "\n",
    "\n",
    "def is_simple(n):\n",
    "    while(True):\n",
    "        for i in range (2, n):\n",
    "            if n%i == 0:\n",
    "                return False\n",
    "        return True       \n",
    "        \n",
    "            \n",
    "\n",
    "\n",
    "def is_simple_(n):\n",
    "    while(True):\n",
    "        if (math.factorial(n-1)+1) % n!=0:\n",
    "            return False\n",
    "        else:\n",
    "            return True\n",
    "        \n",
    "\n",
    "n = int(input('Введите число: ')) \n",
    "if(is_simple(n)):\n",
    "    print(\"Число простое\")\n",
    "else:\n",
    "    print(\"Составное\")\n",
    "    \n",
    "    \n",
    "\n",
    "if(is_simple_(n)):\n",
    "    print(\"Число простое\")\n",
    "else:\n",
    "    print(\"Составное\")\n",
    "    \n",
    "    \n",
    "\n",
    "print(timeit.timeit(\"is_simple(n)\", setup=\"from __main__ import is_simple, n\", number=1))\n",
    "\n",
    "print(timeit.timeit(\"is_simple_(n)\", setup=\"from __main__ import is_simple_, n\", number=1))"
   ]
  },
  {
   "cell_type": "code",
   "execution_count": null,
   "metadata": {},
   "outputs": [],
   "source": []
  }
 ],
 "metadata": {
  "kernelspec": {
   "display_name": "Python 3",
   "language": "python",
   "name": "python3"
  },
  "language_info": {
   "codemirror_mode": {
    "name": "ipython",
    "version": 3
   },
   "file_extension": ".py",
   "mimetype": "text/x-python",
   "name": "python",
   "nbconvert_exporter": "python",
   "pygments_lexer": "ipython3",
   "version": "3.8.3"
  }
 },
 "nbformat": 4,
 "nbformat_minor": 4
}
