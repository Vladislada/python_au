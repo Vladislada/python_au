{
 "cells": [
  {
   "cell_type": "code",
   "execution_count": 43,
   "metadata": {},
   "outputs": [
    {
     "name": "stdout",
     "output_type": "stream",
     "text": [
      "введите наибольший номер члена посл-ти Фибоначчи 10\n",
      "0\n",
      "1\n",
      "1\n",
      "2\n",
      "3\n",
      "5\n",
      "8\n",
      "13\n",
      "21\n",
      "34\n"
     ]
    }
   ],
   "source": [
    "import itertools\n",
    "class Fib:\n",
    "  \n",
    "\n",
    "    def __init__(self, max):\n",
    "        self.max = max\n",
    "        self.c=1\n",
    "\n",
    "    def __iter__(self):\n",
    "        self.a = 0\n",
    "        self.b = 1\n",
    "        return self\n",
    "\n",
    "    def __next__(self):\n",
    "     \n",
    "        fib = self.a\n",
    "        if self.c > self.max:\n",
    "            raise StopIteration\n",
    "        self.c += 1\n",
    "        self.a, self.b = self.b, self.a + self.b\n",
    "        return fib\n",
    "m=int(input(\"введите наибольший номер члена посл-ти Фибоначчи \"))\n",
    "I1=Fib(m)\n",
    "for x in it.islice(I1, m):\n",
    "    print (x)\n",
    "\n"
   ]
  },
  {
   "cell_type": "code",
   "execution_count": null,
   "metadata": {},
   "outputs": [],
   "source": []
  },
  {
   "cell_type": "code",
   "execution_count": null,
   "metadata": {},
   "outputs": [],
   "source": []
  }
 ],
 "metadata": {
  "kernelspec": {
   "display_name": "Python 3",
   "language": "python",
   "name": "python3"
  },
  "language_info": {
   "codemirror_mode": {
    "name": "ipython",
    "version": 3
   },
   "file_extension": ".py",
   "mimetype": "text/x-python",
   "name": "python",
   "nbconvert_exporter": "python",
   "pygments_lexer": "ipython3",
   "version": "3.8.3"
  }
 },
 "nbformat": 4,
 "nbformat_minor": 4
}
