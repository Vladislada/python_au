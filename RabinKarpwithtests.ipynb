{
 "cells": [
  {
   "cell_type": "code",
   "execution_count": 6,
   "metadata": {},
   "outputs": [
    {
     "name": "stderr",
     "output_type": "stream",
     "text": [
      "E\n",
      "======================================================================\n",
      "ERROR: C:\\Users\\Саша\\AppData\\Roaming\\jupyter\\runtime\\kernel-abc74ae5-f8d7-414e-9113-56fae0ab75f4 (unittest.loader._FailedTest)\n",
      "----------------------------------------------------------------------\n",
      "AttributeError: module '__main__' has no attribute 'C:\\Users\\Саша\\AppData\\Roaming\\jupyter\\runtime\\kernel-abc74ae5-f8d7-414e-9113-56fae0ab75f4'\n",
      "\n",
      "----------------------------------------------------------------------\n",
      "Ran 1 test in 0.002s\n",
      "\n",
      "FAILED (errors=1)\n"
     ]
    },
    {
     "ename": "SystemExit",
     "evalue": "True",
     "output_type": "error",
     "traceback": [
      "An exception has occurred, use %tb to see the full traceback.\n",
      "\u001b[1;31mSystemExit\u001b[0m\u001b[1;31m:\u001b[0m True\n"
     ]
    },
    {
     "name": "stderr",
     "output_type": "stream",
     "text": [
      "F:\\proga\\lib\\site-packages\\IPython\\core\\interactiveshell.py:3351: UserWarning: To exit: use 'exit', 'quit', or Ctrl-D.\n",
      "  warn(\"To exit: use 'exit', 'quit', or Ctrl-D.\", stacklevel=1)\n"
     ]
    }
   ],
   "source": [
    "import unittest\n",
    "\n",
    "def rabin_karp(text, pattern):\n",
    "    result = []\n",
    "    pattern_sum = sum(ord(s) for s in pattern)\n",
    "    flag = False\n",
    "    \n",
    "    for i in range(len(text) - len(pattern) + 1):\n",
    "        t_part = text[i:(len(pattern) + i)]          \n",
    "        text_sum = sum(ord(s) for s in t_part)\n",
    "        if pattern_sum == text_sum:                  \n",
    "            for j in range(len(t_part) + 1):\n",
    "                if t_part[j:j+1] == pattern[j:j+1]:           \n",
    "                     flag = True\n",
    "            else:\n",
    "                flag = False\n",
    "                break\n",
    "            if flag is True:\n",
    "                result.append(i)\n",
    "    return result\n",
    "\n",
    "\n",
    "\n",
    "class RabinKarpTest(unittest.TestCase):\n",
    "    \"\"\"Тесты для метода Рабина-Карпа\"\"\"\n",
    "\n",
    "    def setUp(self):\n",
    "        \"\"\"Инициализация\"\"\"\n",
    "        self.text1 = 'axaxaxax'\n",
    "        self.pattern1 = 'xax'\n",
    "        self.text2 = 'bababab'\n",
    "        self.pattern2 = 'bab'\n",
    "\n",
    "    def test_return_type(self):\n",
    "        \"\"\"Проверка того, что функция возвращает список\"\"\"\n",
    "        self.assertIsInstance(\n",
    "            rabin_karp(self.text1, \"x\"), list,\n",
    "            msg=\"Функция должна возвращать список\"\n",
    "        )\n",
    "\n",
    "    def test_returns_empty(self):\n",
    "        \"\"\"Проверка того, что функция, когда следует, возвращает пустой список\"\"\"\n",
    "        self.assertEqual(\n",
    "            [], rabin_karp(self.text1, \"z\"),\n",
    "            msg=\"Функция должна возвращать пустой список, если нет вхождений\"\n",
    "        )\n",
    "        self.assertEqual(\n",
    "            [], rabin_karp(\"\", self.pattern1),\n",
    "            msg=\"Функция должна возвращать пустой список, если текст пустой\"\n",
    "        )\n",
    "        self.assertEqual(\n",
    "            [], rabin_karp(\"\", \"\"),\n",
    "            msg=\"Функция должна возвращать пустой список, если текст пустой, даже если образец пустой\"\n",
    "        )\n",
    "\n",
    "    def test_finds(self):\n",
    "        \"\"\"Проверка того, что функция ищет все вхождения непустых образцов\"\"\"\n",
    "        self.assertEqual(\n",
    "            [1, 3, 5], rabin_karp(self.text1, self.pattern1),\n",
    "            msg=\"Функция должна искать все вхождения\"\n",
    "        )\n",
    "        self.assertEqual(\n",
    "            [0, 2, 4], rabin_karp(self.text2, self.pattern2),\n",
    "            msg=\"Функция должна искать все вхождения\"\n",
    "        )\n",
    "\n",
    "    def test_finds_all_empties(self):\n",
    "        \"\"\"Проверка того, что функция ищет все вхождения пустого образца\"\"\"\n",
    "        self.assertEqual(\n",
    "            list(range(len(self.text1))), rabin_karp(self.text1, \"\"),\n",
    "            msg=\"Пустая строка должна находиться везде\"\n",
    "        )\n",
    "\n",
    "\n",
    "if __name__ == '__main__':\n",
    "    unittest.main()"
   ]
  },
  {
   "cell_type": "code",
   "execution_count": null,
   "metadata": {},
   "outputs": [],
   "source": []
  }
 ],
 "metadata": {
  "kernelspec": {
   "display_name": "Python 3",
   "language": "python",
   "name": "python3"
  },
  "language_info": {
   "codemirror_mode": {
    "name": "ipython",
    "version": 3
   },
   "file_extension": ".py",
   "mimetype": "text/x-python",
   "name": "python",
   "nbconvert_exporter": "python",
   "pygments_lexer": "ipython3",
   "version": "3.8.3"
  }
 },
 "nbformat": 4,
 "nbformat_minor": 4
}
