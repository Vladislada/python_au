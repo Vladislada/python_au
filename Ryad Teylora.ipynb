{
 "cells": [
  {
   "cell_type": "code",
   "execution_count": 8,
   "metadata": {},
   "outputs": [
    {
     "name": "stdout",
     "output_type": "stream",
     "text": [
      "Help on built-in function cos in module math:\n",
      "\n",
      "cos(x, /)\n",
      "    Return the cosine of x (measured in radians).\n",
      "\n",
      "None 0.9210609940028851\n",
      "Help on function my_cos in module __main__:\n",
      "\n",
      "my_cos(x)\n",
      "    Вычисление косинуса при помощи частичного суммирования\n",
      "    ряда Тейлора для окрестности 0\n",
      "\n",
      "None 0.921060994002885\n"
     ]
    }
   ],
   "source": [
    "import math\n",
    "\n",
    "ITERATIONS = 20\n",
    "\n",
    "def my_cos(x):\n",
    "    \"\"\"\n",
    "    Вычисление косинуса при помощи частичного суммирования\n",
    "    ряда Тейлора для окрестности 0\n",
    "    \"\"\"\n",
    "    x_pow = 1\n",
    "    multiplier = 1\n",
    "    partial_sum = 1\n",
    "    for n in range(1, ITERATIONS):\n",
    "        x_pow *= x**2  # В цикле постепенно считаем степень\n",
    "        multiplier *= -1 / (2*n) / (2*n-1) # (-1)^n и факториал\n",
    "        partial_sum += x_pow * multiplier\n",
    "    \n",
    "    return partial_sum\n",
    "\n",
    "print(help(math.cos), math.cos(0.4))\n",
    "print(help(my_cos), my_cos(0.4))"
   ]
  },
  {
   "cell_type": "code",
   "execution_count": null,
   "metadata": {},
   "outputs": [],
   "source": []
  },
  {
   "cell_type": "code",
   "execution_count": null,
   "metadata": {},
   "outputs": [],
   "source": []
  },
  {
   "cell_type": "code",
   "execution_count": null,
   "metadata": {},
   "outputs": [],
   "source": []
  },
  {
   "cell_type": "code",
   "execution_count": null,
   "metadata": {},
   "outputs": [],
   "source": []
  },
  {
   "cell_type": "code",
   "execution_count": null,
   "metadata": {},
   "outputs": [],
   "source": []
  }
 ],
 "metadata": {
  "kernelspec": {
   "display_name": "Python 3",
   "language": "python",
   "name": "python3"
  },
  "language_info": {
   "codemirror_mode": {
    "name": "ipython",
    "version": 3
   },
   "file_extension": ".py",
   "mimetype": "text/x-python",
   "name": "python",
   "nbconvert_exporter": "python",
   "pygments_lexer": "ipython3",
   "version": "3.8.3"
  }
 },
 "nbformat": 4,
 "nbformat_minor": 4
}
