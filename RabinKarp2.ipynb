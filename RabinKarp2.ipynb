{
 "cells": [
  {
   "cell_type": "code",
   "execution_count": 7,
   "metadata": {},
   "outputs": [
    {
     "data": {
      "text/plain": [
       "[46, 66, 84, 90, 99]"
      ]
     },
     "execution_count": 7,
     "metadata": {},
     "output_type": "execute_result"
    }
   ],
   "source": [
    "def rabin_karp(text, pattern):\n",
    "    result = []\n",
    "    pattern_sum = sum(ord(s) for s in pattern)\n",
    "    flag = False\n",
    "    \n",
    "    for i in range(len(text) - len(pattern)):\n",
    "        t_part = text[i:(len(pattern) + i)]          \n",
    "        text_sum = sum(ord(s) for s in t_part)\n",
    "        if pattern_sum == text_sum:                  \n",
    "            for j in range(len(t_part) - 1):\n",
    "                if t_part[j] != pattern[j]:           \n",
    "                     flag = False\n",
    "                break\n",
    "            else:\n",
    "                flag = True\n",
    "            if flag is True:\n",
    "                result.append(i)\n",
    "    return result\n",
    "text = \"\"\"И сердце бьется в упоенье,\n",
    "И для него воскресли вновь\n",
    "И божество, и вдохновенье,\n",
    "И жизнь, и слезы, и любовь.\"\"\"\n",
    "pattern = \"и\"\n",
    "rabin_karp(text, pattern)"
   ]
  },
  {
   "cell_type": "code",
   "execution_count": null,
   "metadata": {},
   "outputs": [],
   "source": []
  }
 ],
 "metadata": {
  "kernelspec": {
   "display_name": "Python 3",
   "language": "python",
   "name": "python3"
  },
  "language_info": {
   "codemirror_mode": {
    "name": "ipython",
    "version": 3
   },
   "file_extension": ".py",
   "mimetype": "text/x-python",
   "name": "python",
   "nbconvert_exporter": "python",
   "pygments_lexer": "ipython3",
   "version": "3.8.3"
  }
 },
 "nbformat": 4,
 "nbformat_minor": 4
}
