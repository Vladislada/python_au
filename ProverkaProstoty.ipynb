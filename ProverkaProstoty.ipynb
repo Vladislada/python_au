{
 "cells": [
  {
   "cell_type": "code",
   "execution_count": 29,
   "metadata": {},
   "outputs": [
    {
     "name": "stdout",
     "output_type": "stream",
     "text": [
      "Введите число: 66\n",
      "66 составное число\n",
      "0.00035710199972527334\n",
      "66 составное число\n",
      "0.00011725800004569464\n"
     ]
    }
   ],
   "source": [
    "import math\n",
    "import timeit\n",
    "\n",
    "\n",
    "def is_simple(n):\n",
    "    i = 2\n",
    "    j = 0 \n",
    "    while i**2 <= n and j != 1:\n",
    "        if n%i == 0:\n",
    "            j = 1\n",
    "        i += 1\n",
    "    if j == 1:\n",
    "        print (\"{} составное число\".format(n))\n",
    "    else:\n",
    "        print (\"{} простое число\".format(n))\n",
    "\n",
    "\n",
    "def is_simple_cached(n):\n",
    "    if (math.factorial(n-1)+1) % n!=0:\n",
    "        print (\"{} составное число\".format(n))\n",
    "    else:\n",
    "        print (\"{} простое число\".format(n))\n",
    "\n",
    "n = int(input('Введите число: '))        \n",
    "print(timeit.timeit(\"is_simple(n)\", setup=\"from __main__ import is_simple, n\", number=1))\n",
    "\n",
    "print(timeit.timeit(\"is_simple_cached(n)\", setup=\"from __main__ import is_simple_cached, n\", number=1))\n",
    "\n",
    "\n",
    "\n"
   ]
  },
  {
   "cell_type": "code",
   "execution_count": null,
   "metadata": {},
   "outputs": [],
   "source": []
  },
  {
   "cell_type": "code",
   "execution_count": null,
   "metadata": {},
   "outputs": [],
   "source": []
  }
 ],
 "metadata": {
  "kernelspec": {
   "display_name": "Python 3",
   "language": "python",
   "name": "python3"
  }
 },
 "nbformat": 4,
 "nbformat_minor": 4
}
